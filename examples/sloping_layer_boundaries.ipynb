{
 "cells": [
  {
   "cell_type": "markdown",
   "metadata": {},
   "source": [
    "#Example showing how to put sloping boundaries into a model"
   ]
  },
  {
   "cell_type": "code",
   "execution_count": 1,
   "metadata": {
    "collapsed": false
   },
   "outputs": [
    {
     "name": "stdout",
     "output_type": "stream",
     "text": [
      "Populating the interactive namespace from numpy and matplotlib\n"
     ]
    }
   ],
   "source": [
    "% pylab inline\n",
    "import numpy as np\n",
    "import matplotlib.pyplot as plt\n",
    "from pyvm.models.vm import VM"
   ]
  },
  {
   "cell_type": "code",
   "execution_count": 13,
   "metadata": {
    "collapsed": false
   },
   "outputs": [
    {
     "data": {
      "image/png": "[encoded data removed]",
      "text/plain": [
       "<matplotlib.figure.Figure at 0x10ee0d4d0>"
      ]
     },
     "metadata": {},
     "output_type": "display_data"
    }
   ],
   "source": [
    "# define the model domain in terms of grid dimensions, spacing, and origin\n",
    "vm = VM(shape=(200, 1, 100), spacing=(0.5, 1, 0.25), origin=(0, 0, 0))\n",
    "\n",
    "# add a sloping boundary\n",
    "z = np.reshape(2 + 0.05*(vm.grid.x),(vm.nx,1))\n",
    "vm.insert_interface(z)\n",
    "\n",
    "# piecewise defined boundary\n",
    "specs = [#xstart, xend, slope\n",
    "    [0., 15., 0.],\n",
    "    [15., 45., 0.1],\n",
    "    [45., 60., 0.],\n",
    "    [60., vm.r2[0], -0.15]]\n",
    "\n",
    "z0 = 15.  # intial depth at left-hand side of model\n",
    "\n",
    "# build full boundary\n",
    "z = np.ones(vm.nx)\n",
    "for x0, x1, m in specs:\n",
    "    ix = vm.xrange2i(x0, x1)\n",
    "    x = vm.grid.x[ix]\n",
    "    z[ix] = z0 + m * (x - x[0])\n",
    "    \n",
    "    z0 = z[ix[-1]]\n",
    "\n",
    "# add the boundary\n",
    "vm.insert_interface(np.reshape(z, (vm.nx, 1)))\n",
    "\n",
    "# add some velocities\n",
    "vm.define_constant_layer_velocity(0, 1.5)\n",
    "vm.define_constant_layer_velocity(1, 2.5)\n",
    "vm.define_constant_layer_velocity(2, 3.5)\n",
    "\n",
    "# plot\n",
    "vm.plot()"
   ]
  }
 ],
 "metadata": {
  "kernelspec": {
   "display_name": "Python 2",
   "language": "python",
   "name": "python2"
  },
  "language_info": {
   "codemirror_mode": {
    "name": "ipython",
    "version": 2
   },
   "file_extension": ".py",
   "mimetype": "text/x-python",
   "name": "python",
   "nbconvert_exporter": "python",
   "pygments_lexer": "ipython2",
   "version": "2.7.10"
  }
 },
 "nbformat": 4,
 "nbformat_minor": 0
}
